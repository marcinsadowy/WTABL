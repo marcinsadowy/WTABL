{
 "cells": [
  {
   "cell_type": "code",
   "execution_count": 34,
   "metadata": {},
   "outputs": [],
   "source": [
    "import numpy as np\n",
    "import pandas as pd"
   ]
  },
  {
   "cell_type": "markdown",
   "metadata": {},
   "source": [
    "# Nygaard TDM"
   ]
  },
  {
   "cell_type": "code",
   "execution_count": 35,
   "metadata": {},
   "outputs": [],
   "source": [
    "U_0 = 10\n",
    "z_0 = 0.0001\n",
    "D = 100\n",
    "z_H = 100\n",
    "C_T = 0.8\n",
    "s_x = 10\n",
    "s_y = 10\n",
    "s_d = s_x*D\n",
    "s_c = s_y*D\n",
    "kappa = 0.4\n",
    "rho = 1.225"
   ]
  },
  {
   "cell_type": "code",
   "execution_count": 36,
   "metadata": {},
   "outputs": [],
   "source": [
    "def calculate_wind_speed(x_1, x_2, x_3, z_H, D, C_T, s_d, s_c):\n",
    "\n",
    "    c_t = (np.pi * C_T * D**2) / (8 * s_d * s_c)\n",
    "\n",
    "    nu_star = 28 * np.sqrt(c_t)\n",
    "    \n",
    "    beta =  nu_star / (1 + nu_star)\n",
    "    \n",
    "    z_0WF = z_H * (1 + D / (2 * z_H))**beta * np.exp(-kappa * (c_t + (kappa / np.log((z_H / z_0) * (1 - D / (2 * z_H))**beta))**2)**-0.5)\n",
    "\n",
    "    x = np.linspace(x_1, x_3-1, int(x_3-x_1))\n",
    "\n",
    "    h_1 = np.full_like(x, np.nan, dtype=float)\n",
    "    h_2 = np.full_like(x, np.nan, dtype=float)\n",
    "\n",
    "    alpha_def = 0.8\n",
    "\n",
    "    #ratio = 1 + 13450 / x_3**1.28\n",
    "    #alpha_rec = 0.8 * ratio\n",
    "    #print('alpha_rec:', alpha_rec)\n",
    "    alpha_rec = 0.8\n",
    "    a = 1 #0.859\n",
    "\n",
    "    h_1[x >= x_1] = z_H + a * ((x[x >= x_1] - x_1) / z_0WF)**alpha_def * z_0WF\n",
    "    h_2[x >= x_2] =   0 + a * ((x[x >= x_2] - x_2) / z_0WF)**alpha_rec * z_0WF\n",
    "\n",
    "    U = np.full_like(x, np.nan, dtype=float)\n",
    "    U[0] = U_0\n",
    "\n",
    "    idx1 = h_1 >= z_H\n",
    "    U[idx1] = U_0 * (np.log(h_1[idx1] / z_0) * np.log(z_H / z_0WF)) / (np.log(h_1[idx1] / z_0WF) * np.log(z_H / z_0))\n",
    "\n",
    "    idx2 = (x >= x_2) & (h_2 >= z_H)\n",
    "    U[idx2] = U_0 * (np.log(h_1[idx2] / z_0) * np.log(h_2[idx2] / z_0WF)) / (np.log(h_1[idx2] / z_0WF) * np.log(h_2[idx2] / z_0))\n",
    "\n",
    "    for i in range(1, len(U)):\n",
    "        if U[i] >= U_0 * 0.9999:\n",
    "            U[i] = U_0 * 0.9999\n",
    "        elif U[i] < 0:\n",
    "            U[i] = 0\n",
    "\n",
    "    return x, U, c_t, idx2"
   ]
  },
  {
   "cell_type": "markdown",
   "metadata": {},
   "source": [
    "# Alex's firkanter :)"
   ]
  },
  {
   "cell_type": "code",
   "execution_count": 37,
   "metadata": {},
   "outputs": [
    {
     "name": "stdout",
     "output_type": "stream",
     "text": [
      "---------- 800 D ---------- \n",
      "\n",
      "c_t:     0.00314      [-]\n",
      "N_wt:    121          [-]\n",
      "T:       38013271     [kg·m·s⁻²]\n",
      "\n",
      "u_s_2:   0.16836      [-]\n",
      "u_s_3:   0.00456      [-]\n",
      "\n",
      "A:       1010000      [m²]\n",
      "A_2:     2714999      [m²]\n",
      "A2_A:    2.7          [-]\n",
      "\n",
      "A_3:     83673062     [m²]\n",
      "A3_A2:   30.81881     [-]\n",
      "\n",
      "kx:      0.02615      [-]\n",
      "k:       2092          [m]\n"
     ]
    }
   ],
   "source": [
    "d = 800 * D\n",
    "\n",
    "l_f = int(10000)\n",
    "w_f = int(10000 + (2*D/2))\n",
    "h_f = D\n",
    "\n",
    "x_1 = -l_f\n",
    "x_2 = 0\n",
    "x_3 = d\n",
    "\n",
    "x, u_tdm, c_t, idx2 = calculate_wind_speed(x_1, x_2, x_3, z_H, D, C_T, s_d, s_c)\n",
    "\n",
    "u_s_2 = (U_0 - u_tdm[idx2][0]) / U_0\n",
    "\n",
    "u_s_3 = (U_0 - u_tdm[-1]) / U_0\n",
    "\n",
    "N_wt = int( (l_f+s_d)/s_d * (w_f+s_c-(2*D/2))/s_c )\n",
    "\n",
    "T = 1/2 * C_T * np.pi*(D**2)/4 * U_0**2 * N_wt #* rho (fjernet fra begge sider)\n",
    "\n",
    "A = w_f * h_f\n",
    "A_2 = T / (U_0**2 * (1 - u_s_2)*u_s_2)\n",
    "A2_A = A_2 / A\n",
    "\n",
    "A_3 = A_2 * ((1 - u_s_2)*u_s_2) / ((1 - u_s_3)*u_s_3)\n",
    "\n",
    "A3_A2 = A_3 / A_2\n",
    "\n",
    "ar = w_f / h_f\n",
    "\n",
    "h_f_0 = np.sqrt(A_3 / ar)\n",
    "w_f_0 = np.sqrt(A_3 * ar)\n",
    "\n",
    "w_f_d = np.sqrt(A3_A2) * w_f_0\n",
    "h_f_d = np.sqrt(A3_A2) * h_f_0\n",
    "\n",
    "kx = (w_f_d - w_f_0) / (2*d*D)\n",
    "#kx = (-h_f_0/4 - w_f_0/4 + (np.sqrt(h_f_0**2 + 2*h_f_0*w_f_0 + w_f_0**2 - 4*A_0 + 4*A_d))/4) / d*D\n",
    "k = int( kx * d )\n",
    "\n",
    "print(f'---------- {d/D:.0f} D ---------- \\n')\n",
    "\n",
    "print(f'c_t:     {c_t:.5f}      [-]')\n",
    "print(f'N_wt:    {N_wt:.0f}          [-]')\n",
    "print(f'T:       {T:.0f}     [kg·m·s⁻²]\\n')\n",
    "\n",
    "print(f'u_s_2:   {u_s_2:.5f}      [-]')\n",
    "print(f'u_s_3:   {u_s_3:.5f}      [-]\\n')\n",
    "\n",
    "print(f'A:       {A:.0f}      [m²]')\n",
    "print(f'A_2:     {A_2:.0f}      [m²]')\n",
    "print(f'A2_A:    {A2_A:.1f}          [-]\\n')\n",
    "\n",
    "print(f'A_3:     {A_3:.0f}     [m²]')\n",
    "print(f'A3_A2:   {A3_A2:.5f}     [-]\\n')\n",
    "\n",
    "print(f'kx:      {kx:.05f}      [-]')\n",
    "print(f'k:       {k:.0f}          [m]')"
   ]
  },
  {
   "cell_type": "markdown",
   "metadata": {},
   "source": [
    "# Save to CSV"
   ]
  },
  {
   "cell_type": "code",
   "execution_count": 38,
   "metadata": {},
   "outputs": [],
   "source": [
    "y_meas = np.linspace(0 - k, w_f + k, w_f+(2*k)+1)\n",
    "U = np.full_like(y_meas, u_tdm[-1])"
   ]
  },
  {
   "cell_type": "code",
   "execution_count": 39,
   "metadata": {},
   "outputs": [],
   "source": [
    "data = pd.DataFrame({\n",
    "    \"y_wake\": y_meas / D,\n",
    "    \"U_norm\": U / U_0,\n",
    "    \"kx\": kx,\n",
    "})\n",
    "data.to_csv(f\"../ArbitraryLayouts/ValidationData/{int(d / D)}D.csv\", index=False)"
   ]
  }
 ],
 "metadata": {
  "kernelspec": {
   "display_name": "Python 3",
   "language": "python",
   "name": "python3"
  },
  "language_info": {
   "codemirror_mode": {
    "name": "ipython",
    "version": 3
   },
   "file_extension": ".py",
   "mimetype": "text/x-python",
   "name": "python",
   "nbconvert_exporter": "python",
   "pygments_lexer": "ipython3",
   "version": "3.13.3"
  }
 },
 "nbformat": 4,
 "nbformat_minor": 5
}
