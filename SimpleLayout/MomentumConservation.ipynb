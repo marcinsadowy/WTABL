{
 "cells": [
  {
   "cell_type": "code",
   "execution_count": 49,
   "metadata": {},
   "outputs": [],
   "source": [
    "import numpy as np\n",
    "import pandas as pd"
   ]
  },
  {
   "cell_type": "markdown",
   "metadata": {},
   "source": [
    "# Nygaard TDM"
   ]
  },
  {
   "cell_type": "code",
   "execution_count": 50,
   "metadata": {},
   "outputs": [],
   "source": [
    "U_0 = 10\n",
    "z_0 = 0.0001\n",
    "D = 100\n",
    "z_H = 100\n",
    "C_T = 0.8\n",
    "s_x = 10\n",
    "s_y = 10\n",
    "s_d = s_x*D\n",
    "s_c = s_y*D\n",
    "kappa = 0.4"
   ]
  },
  {
   "cell_type": "code",
   "execution_count": 51,
   "metadata": {},
   "outputs": [],
   "source": [
    "def calculate_wind_speed(x_1, x_2, x_3, z_H, D, C_T, s_d, s_c):\n",
    "\n",
    "    c_t = (np.pi * C_T * D**2) / (8 * s_d * s_c)\n",
    "\n",
    "    nu_star = 28 * np.sqrt(c_t)\n",
    "    \n",
    "    beta =  nu_star / (1 + nu_star)\n",
    "    \n",
    "    z_0WF = z_H * (1 + D / (2 * z_H))**beta * np.exp(-kappa * (c_t + (kappa / np.log((z_H / z_0) * (1 - D / (2 * z_H))**beta))**2)**-0.5)\n",
    "\n",
    "    x = np.linspace(x_1, x_3-1, int(x_3-x_1))\n",
    "\n",
    "    h_1 = np.full_like(x, np.nan, dtype=float)\n",
    "    h_2 = np.full_like(x, np.nan, dtype=float)\n",
    "\n",
    "    alpha_def = 0.8\n",
    "\n",
    "    #ratio = 1 + 13450 / x_3**1.28\n",
    "    #alpha_rec = 0.8 * ratio\n",
    "    #print('alpha_rec:', alpha_rec)\n",
    "    alpha_rec = 0.8\n",
    "    a = 1 #0.859\n",
    "\n",
    "    h_1[x >= x_1] = z_H + a * ((x[x >= x_1] - x_1) / z_0WF)**alpha_def * z_0WF\n",
    "    h_2[x >= x_2] =   0 + a * ((x[x >= x_2] - x_2) / z_0WF)**alpha_rec * z_0WF\n",
    "\n",
    "    U = np.full_like(x, np.nan, dtype=float)\n",
    "    U[0] = U_0\n",
    "\n",
    "    idx1 = h_1 >= z_H\n",
    "    U[idx1] = U_0 * (np.log(h_1[idx1] / z_0) * np.log(z_H / z_0WF)) / (np.log(h_1[idx1] / z_0WF) * np.log(z_H / z_0))\n",
    "\n",
    "    idx2 = (x >= x_2) & (h_2 >= z_H)\n",
    "    U[idx2] = U_0 * (np.log(h_1[idx2] / z_0) * np.log(h_2[idx2] / z_0WF)) / (np.log(h_1[idx2] / z_0WF) * np.log(h_2[idx2] / z_0))\n",
    "\n",
    "    for i in range(1, len(U)):\n",
    "        if U[i] >= U_0 * 0.9999:\n",
    "            U[i] = U_0 * 0.9999\n",
    "        elif U[i] < 0:\n",
    "            U[i] = 0\n",
    "\n",
    "    return x, U, c_t"
   ]
  },
  {
   "cell_type": "markdown",
   "metadata": {},
   "source": [
    "# Alex's firkanter :)"
   ]
  },
  {
   "cell_type": "code",
   "execution_count": 52,
   "metadata": {},
   "outputs": [
    {
     "name": "stdout",
     "output_type": "stream",
     "text": [
      "c_t:     0.00314\n",
      "U_meas:  8.318\n",
      "u_s:     0.00914\n",
      "\n",
      "A_farm:  101000000\n",
      "A_exit:  1010000\n",
      "A_0:     673333\n",
      "A_x:     11673631\n",
      "kx:      0.01212  [m/m]\n",
      "k:       484      [m]\n"
     ]
    }
   ],
   "source": [
    "d = 400 * D\n",
    "\n",
    "l_farm = int(10000)\n",
    "w_farm = int(10000 + (2*D/2))\n",
    "h_farm = D\n",
    "\n",
    "x_1 = -l_farm\n",
    "x_2 = 0\n",
    "x_3 = d\n",
    "\n",
    "x, u_tdm, c_t = calculate_wind_speed(x_1, x_2, x_3, z_H, D, C_T, s_d, s_c)\n",
    "\n",
    "A_farm = l_farm * w_farm\n",
    "A_exit = h_farm * w_farm\n",
    "A_0 = 2/3 * A_exit\n",
    "\n",
    "c_t_ny = c_t * A_farm/A_exit\n",
    "\n",
    "u_s = (U_0 - u_tdm[-1]) / U_0\n",
    "A_x = A_0 * c_t_ny / (2*(u_s - u_s**2))\n",
    "\n",
    "kx = (- h_farm/4 - w_farm/4 \n",
    "      + (np.sqrt(h_farm**2 + 2*A_0 + w_farm**2 - 4*A_0 + 4*(A_0 * (c_t_ny / (2*(u_s - u_s**2))))))/4)/d\n",
    "\n",
    "k = int(kx*d)\n",
    "\n",
    "print(f'c_t:     {c_t:.5f}')\n",
    "print(f'U_meas:  {u_tdm[l_farm+4*D]:.3f}')\n",
    "print(f'u_s:     {u_s:.5f}\\n')\n",
    "print(f'A_farm:  {A_farm:.0f}')\n",
    "print(f'A_exit:  {A_exit:.0f}')\n",
    "print(f'A_0:     {A_0:.0f}')\n",
    "print(f'A_x:     {A_x:.0f}')\n",
    "print(f'kx:      {kx:.5f}  [m/m]')\n",
    "print(f'k:       {k:.0f}      [m]')"
   ]
  },
  {
   "cell_type": "markdown",
   "metadata": {},
   "source": [
    "# Save to CSV"
   ]
  },
  {
   "cell_type": "code",
   "execution_count": 53,
   "metadata": {},
   "outputs": [],
   "source": [
    "y_meas = np.linspace(0 - k, w_farm + k, w_farm+(2*k)+1)\n",
    "U = np.full_like(y_meas, u_tdm[-1])"
   ]
  },
  {
   "cell_type": "code",
   "execution_count": 54,
   "metadata": {},
   "outputs": [],
   "source": [
    "data = pd.DataFrame({\n",
    "    \"y_wake\": y_meas / D,\n",
    "    \"U_norm\": U / U_0,\n",
    "    \"kx\": kx,\n",
    "})\n",
    "data.to_csv(f\"../ArbitraryLayouts/ValidationData/{int(d / D)}D.csv\", index=False)"
   ]
  }
 ],
 "metadata": {
  "kernelspec": {
   "display_name": "Python 3",
   "language": "python",
   "name": "python3"
  },
  "language_info": {
   "codemirror_mode": {
    "name": "ipython",
    "version": 3
   },
   "file_extension": ".py",
   "mimetype": "text/x-python",
   "name": "python",
   "nbconvert_exporter": "python",
   "pygments_lexer": "ipython3",
   "version": "3.13.3"
  }
 },
 "nbformat": 4,
 "nbformat_minor": 5
}
