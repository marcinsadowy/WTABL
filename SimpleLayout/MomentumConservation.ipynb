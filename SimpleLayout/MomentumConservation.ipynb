{
 "cells": [
  {
   "cell_type": "code",
   "execution_count": 37,
   "metadata": {},
   "outputs": [],
   "source": [
    "import numpy as np\n",
    "import pandas as pd\n",
    "import matplotlib.pyplot as plt"
   ]
  },
  {
   "cell_type": "markdown",
   "metadata": {},
   "source": [
    "# Nygaard TDM"
   ]
  },
  {
   "cell_type": "code",
   "execution_count": 38,
   "metadata": {},
   "outputs": [],
   "source": [
    "U_0 = 10\n",
    "z_0 = 0.0001\n",
    "D = 100\n",
    "z_H = 100\n",
    "C_T = 0.8\n",
    "s_x = 10\n",
    "s_y = 10\n",
    "s_d = s_x*D\n",
    "s_c = s_y*D\n",
    "kappa = 0.4\n",
    "rho = 1.225"
   ]
  },
  {
   "cell_type": "code",
   "execution_count": 39,
   "metadata": {},
   "outputs": [
    {
     "name": "stderr",
     "output_type": "stream",
     "text": [
      "<>:40: SyntaxWarning: invalid escape sequence '\\;'\n",
      "<>:40: SyntaxWarning: invalid escape sequence '\\;'\n",
      "/tmp/ipykernel_5702/2916134013.py:40: SyntaxWarning: invalid escape sequence '\\;'\n",
      "  plt.axhline(1.0, color='black', linestyle='--', linewidth=2, label=r'$U_0 \\; / \\; U_0 \\; [-]$')\n"
     ]
    }
   ],
   "source": [
    "def calculate_wind_speed(x_1, x_2, x_3, z_H, D, C_T, s_d, s_c):\n",
    "\n",
    "    c_t = (np.pi * C_T * D**2) / (8 * s_d * s_c)\n",
    "\n",
    "    nu_star = 28 * np.sqrt(c_t)\n",
    "    \n",
    "    beta =  nu_star / (1 + nu_star)\n",
    "    \n",
    "    z_0WF = z_H * (1 + D / (2 * z_H))**beta * np.exp(-kappa * (c_t + (kappa / np.log((z_H / z_0) * (1 - D / (2 * z_H))**beta))**2)**-0.5)\n",
    "\n",
    "    x = np.linspace(x_1, x_3-1, int(x_3-x_1))\n",
    "\n",
    "    h_1 = np.full_like(x, np.nan, dtype=float)\n",
    "    h_2 = np.full_like(x, np.nan, dtype=float)\n",
    "\n",
    "    alpha_def = 0.8\n",
    "\n",
    "    alpha_rec = 0.8\n",
    "\n",
    "    h_1[x >= x_1] = (z_H/z_0WF + ((x[x >= x_1] - x_1) / z_0WF)**alpha_def) * z_0WF\n",
    "    h_2[x >= x_2] =   (0/z_0WF + ((x[x >= x_2] - x_2) / z_0WF)**alpha_rec) * z_0WF\n",
    "\n",
    "    U = np.full_like(x, np.nan, dtype=float)\n",
    "    U[0] = U_0\n",
    "\n",
    "    idx1 = (h_1 >= z_H)\n",
    "    U[idx1] = U_0 * (np.log(h_1[idx1] / z_0) * np.log(z_H / z_0WF)) / (np.log(h_1[idx1] / z_0WF) * np.log(z_H / z_0))\n",
    "\n",
    "    idx2 = (x >= x_2) & (h_2 >= z_H)\n",
    "    U[idx2] = U_0 * (np.log(h_1[idx2] / z_0) * np.log(h_2[idx2] / z_0WF)) / (np.log(h_1[idx2] / z_0WF) * np.log(h_2[idx2] / z_0))\n",
    "\n",
    "    for i in range(1, len(U)):\n",
    "        if U[i] >= U_0 * 0.9999:\n",
    "            U[i] = U_0 * 0.9999\n",
    "        elif U[i] < 0:\n",
    "            U[i] = 0\n",
    "\n",
    "\n",
    "    '''plt.figure(figsize=(6, 4))\n",
    "    plt.axhline(1.0, color='black', linestyle='--', linewidth=2, label=r'$U_0 \\; / \\; U_0 \\; [-]$')\n",
    "    plt.plot(x[idx1] / D, U[idx1] / U_0, color='#1f77b4', label=r'$U(x) \\; / \\; U_0 \\; [-]$')\n",
    "    plt.plot(x[idx2] / D, U[idx2] / U_0, color='#1f77b4', linewidth=0.5)\n",
    "    plt.xlabel(r'$x \\; / \\; D \\; [-]$')\n",
    "    plt.ylabel(r'$U(x) \\; / \\; U_0 \\; [-]$')\n",
    "    plt.xlim(-110, 200)\n",
    "    plt.ylim(0.8, 1.01)\n",
    "    plt.grid(True)\n",
    "    plt.legend()\n",
    "    plt.show()'''\n",
    "\n",
    "    return x, U, c_t, h_1, idx2"
   ]
  },
  {
   "cell_type": "markdown",
   "metadata": {},
   "source": [
    "# Alex's firkanter :)"
   ]
  },
  {
   "cell_type": "code",
   "execution_count": null,
   "metadata": {},
   "outputs": [
    {
     "name": "stdout",
     "output_type": "stream",
     "text": [
      "---------- 200 D ---------- \n",
      "\n",
      "c_t:     0.00314      [-]\n",
      "N_wt:    121          [-]\n",
      "T:       38013271     [kg·m·s⁻²]\n",
      "\n",
      "u_s_2:   0.16836      [-]\n",
      "u_s_3:   0.01752      [-]\n",
      "\n",
      "A:       2020000     [m²]\n",
      "h_f:     200         [m]\n",
      "w_f:     10100        [m]\n",
      "\n",
      "A_2:     2714999      [m²]\n",
      "A2_A:    1.3          [-]\n",
      "h_f_2:   232         [m]\n",
      "w_f_2:   11709         [m]\n",
      "\n",
      "A_3:     22078233     [m²]\n",
      "A3_A2:   8.13195     [-]\n",
      "h_f_3:   661         [m]\n",
      "w_f_3:   33391         [m]\n",
      "\n",
      "kx_h:      0.01073    [-]\n",
      "kx_w:      0.54204    [-]\n",
      "k_h:       214       [m]\n",
      "k_w:       10840       [m]\n"
     ]
    }
   ],
   "source": [
    "d = 200 * D\n",
    "\n",
    "l_f = int(10000)\n",
    "w_f = int(10000 + (2*D/2))\n",
    "\n",
    "x_1 = -l_f\n",
    "x_2 = 0\n",
    "x_3 = d\n",
    "\n",
    "x, u_tdm, c_t, h_1, idx2 = calculate_wind_speed(x_1, x_2, x_3, z_H, D, C_T, s_d, s_c)\n",
    "\n",
    "h_f = int(h_1[x_2] * d/l_f)\n",
    "\n",
    "u_s_2 = (U_0 - u_tdm[idx2][0]) / U_0\n",
    "\n",
    "u_s_3 = (U_0 - u_tdm[-1]) / U_0\n",
    "\n",
    "N_wt = int( (l_f+s_d)/s_d * (w_f+s_c-(2*D/2))/s_c )\n",
    "\n",
    "T = 1/2 * C_T * np.pi*(D**2)/4 * U_0**2 * N_wt\n",
    "\n",
    "# Evt., hvad ville resultatet være, hvis TDM hastighederne var det samme som PyW?\n",
    "# Lin. vs WeightedSum integrals?\n",
    "# Forklar i rapporten hvorfor momentum er sammenligningsgrundlag\n",
    "# Vis, at vores TDM+expansion bevarer momentum downstream. \"Cover own ass\"\n",
    "# Undersøg det samme for PyWake, den er ikke helt momentumbevarende (kilde: Alex)\n",
    "# nu_w_star forhold til TI ved hub height\n",
    "\n",
    "A = w_f * h_f\n",
    "A_2 = T / (U_0**2 * (1 - u_s_2)*u_s_2)\n",
    "A2_A = A_2 / A\n",
    "\n",
    "A_3 = A_2 * ((1 - u_s_2)*u_s_2) / ((1 - u_s_3)*u_s_3)\n",
    "\n",
    "A3_A2 = A_3 / A_2\n",
    "\n",
    "ar = w_f / h_f\n",
    "\n",
    "h_f_2 = np.sqrt(A_2 / ar)\n",
    "w_f_2 = np.sqrt(A_2 * ar)\n",
    "\n",
    "h_f_3 = np.sqrt(A_3 / ar)\n",
    "w_f_3 = np.sqrt(A_3 * ar)\n",
    "\n",
    "kx_h = (h_f_3 - h_f_2) / 2 / d\n",
    "kx_w = (w_f_3 - w_f_2) / 2 / d\n",
    "\n",
    "k_h = int( kx_h * d )\n",
    "k_w = int( kx_w * d )\n",
    "\n",
    "'''fig, ax = plt.subplots(figsize=(6,6))\n",
    "ax.plot(x/D, h_1)\n",
    "plt.grid(True)\n",
    "plt.show()'''\n",
    "\n",
    "print(f'---------- {d/D:.0f} D ---------- \\n')\n",
    "\n",
    "print(f'c_t:     {c_t:.5f}      [-]')\n",
    "print(f'N_wt:    {N_wt:.0f}          [-]')\n",
    "print(f'T:       {T:.0f}     [kg·m·s⁻²]\\n')\n",
    "\n",
    "print(f'u_s_2:   {u_s_2:.5f}      [-]')\n",
    "print(f'u_s_3:   {u_s_3:.5f}      [-]\\n')\n",
    "\n",
    "print(f'A:       {A:.0f}     [m²]')\n",
    "print(f'h_f:     {h_f:.0f}         [m]')\n",
    "print(f'w_f:     {w_f:.0f}        [m]\\n')\n",
    "\n",
    "print(f'A_2:     {A_2:.0f}      [m²]')\n",
    "print(f'A2_A:    {A2_A:.1f}          [-]')\n",
    "print(f'h_f_2:   {h_f_2:.0f}         [m]')\n",
    "print(f'w_f_2:   {w_f_2:.0f}         [m]\\n')\n",
    "\n",
    "print(f'A_3:     {A_3:.0f}     [m²]')\n",
    "print(f'A3_A2:   {A3_A2:.5f}     [-]')\n",
    "print(f'h_f_3:   {h_f_3:.0f}         [m]')\n",
    "print(f'w_f_3:   {w_f_3:.0f}         [m]\\n')\n",
    "\n",
    "print(f'kx_h:      {kx_h:.05f}    [-]')\n",
    "print(f'kx_w:      {kx_w:.05f}    [-]')\n",
    "print(f'k_h:       {k_h:.0f}       [m]')\n",
    "print(f'k_w:       {k_w:.0f}       [m]')"
   ]
  },
  {
   "cell_type": "markdown",
   "metadata": {},
   "source": [
    "# Save to CSV"
   ]
  },
  {
   "cell_type": "code",
   "execution_count": 41,
   "metadata": {},
   "outputs": [],
   "source": [
    "y_meas = np.linspace(0 - k_w, w_f + k_w, w_f+(2*k_w)+1)\n",
    "U = np.full_like(y_meas, u_tdm[-1])"
   ]
  },
  {
   "cell_type": "code",
   "execution_count": 42,
   "metadata": {},
   "outputs": [],
   "source": [
    "data = pd.DataFrame({\n",
    "    \"y_wake\": y_meas / D,\n",
    "    \"U_norm\": U / U_0,\n",
    "    \"kx_w\": kx_w,\n",
    "})\n",
    "data.to_csv(f\"../ArbitraryLayouts/ValidationData/{int(d / D)}D.csv\", index=False)"
   ]
  }
 ],
 "metadata": {
  "kernelspec": {
   "display_name": "Python 3",
   "language": "python",
   "name": "python3"
  },
  "language_info": {
   "codemirror_mode": {
    "name": "ipython",
    "version": 3
   },
   "file_extension": ".py",
   "mimetype": "text/x-python",
   "name": "python",
   "nbconvert_exporter": "python",
   "pygments_lexer": "ipython3",
   "version": "3.13.3"
  }
 },
 "nbformat": 4,
 "nbformat_minor": 5
}
