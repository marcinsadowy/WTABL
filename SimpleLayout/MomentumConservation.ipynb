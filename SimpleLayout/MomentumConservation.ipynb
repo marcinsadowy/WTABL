{
 "cells": [
  {
   "cell_type": "code",
   "execution_count": 1,
   "metadata": {},
   "outputs": [],
   "source": [
    "import numpy as np\n",
    "import matplotlib.pyplot as plt\n",
    "import pandas as pd"
   ]
  },
  {
   "cell_type": "markdown",
   "metadata": {},
   "source": [
    "# Nygaard TDM"
   ]
  },
  {
   "cell_type": "code",
   "execution_count": 2,
   "metadata": {},
   "outputs": [],
   "source": [
    "U_0 = 10\n",
    "z_0 = 0.001\n",
    "D = 100\n",
    "z_H = 100\n",
    "C_T = 0.8\n",
    "s_x = 10\n",
    "s_y = 10\n",
    "s_d = s_x*D\n",
    "s_c = s_y*D\n",
    "kappa = 0.4"
   ]
  },
  {
   "cell_type": "code",
   "execution_count": 3,
   "metadata": {},
   "outputs": [],
   "source": [
    "def calculate_wind_speed(x_1, x_2, x_3, z_H, D, C_T, s_d, s_c):\n",
    "\n",
    "    c_t = (np.pi * C_T * D**2) / (8 * s_d * s_c)\n",
    "    print('c_t', c_t)\n",
    "\n",
    "    nu_star = 28/10 * np.sqrt(c_t)\n",
    "    \n",
    "    beta =  nu_star / (1 + nu_star)\n",
    "    \n",
    "    z_0WF = z_H * (1 + D / (2 * z_H))**beta * np.exp(-kappa * (c_t + (kappa / np.log((z_H / z_0) * (1 - D / (2 * z_H))**beta))**2)**-0.5)\n",
    "\n",
    "    x = np.linspace(x_1, x_3-1, int(x_3-x_1))\n",
    "\n",
    "    h_1 = np.full_like(x, np.nan, dtype=float)\n",
    "    h_2 = np.full_like(x, np.nan, dtype=float)\n",
    "\n",
    "    alpha = 1.6\n",
    "\n",
    "    h_1[x >= x_1] = z_H + ((x[x >= x_1] - x_1) / z_0WF)**(alpha) * z_0WF\n",
    "    h_2[x >= x_2] =   0 + ((x[x >= x_2] - x_2) / z_0WF)**(alpha) * z_0WF\n",
    "\n",
    "    U = np.full_like(x, np.nan, dtype=float)\n",
    "    U[0] = U_0\n",
    "\n",
    "    idx1 = h_1 >= z_H\n",
    "    U[idx1] = U_0 * (np.log(h_1[idx1] / z_0) * np.log(z_H / z_0WF)) / (np.log(h_1[idx1] / z_0WF) * np.log(z_H / z_0))\n",
    "\n",
    "    idx2 = (x >= x_2) & (h_2 >= z_H)\n",
    "    U[idx2] = U_0 * (np.log(h_1[idx2] / z_0) * np.log(h_2[idx2] / z_0WF)) / (np.log(h_1[idx2] / z_0WF) * np.log(h_2[idx2] / z_0))\n",
    "\n",
    "    for i in range(1, len(U)):\n",
    "        if U[i] > U_0:\n",
    "            U[i] = U_0\n",
    "        elif U[i] < 0:\n",
    "            U[i] = 0\n",
    "\n",
    "    return x, U, c_t"
   ]
  },
  {
   "cell_type": "markdown",
   "metadata": {},
   "source": [
    "# Alex's firkanter :)"
   ]
  },
  {
   "cell_type": "code",
   "execution_count": 4,
   "metadata": {},
   "outputs": [
    {
     "name": "stdout",
     "output_type": "stream",
     "text": [
      "c_t 0.003141592653589793\n",
      "U 9.985943382748312\n"
     ]
    }
   ],
   "source": [
    "d = 1400 * D\n",
    "\n",
    "l_farm = int(12 * s_d)\n",
    "w_farm = int(12 * s_c + (2*D/2))\n",
    "h_farm = D\n",
    "\n",
    "k_w = 0.005\n",
    "\n",
    "x, u_tdm, c_t = calculate_wind_speed(0, l_farm, d, z_H, D, C_T, s_d, s_c)\n",
    "\n",
    "A_0 = (w_farm * h_farm) + (2 * w_farm * k_w * l_farm) + (2 * h_farm * k_w * l_farm) + (4 * (k_w * l_farm)**2)\n",
    "\n",
    "u_s = (U_0 - u_tdm[-1]) / U_0\n",
    "print('U', u_tdm[-1])\n",
    "#print('u_s', u_s)"
   ]
  },
  {
   "cell_type": "code",
   "execution_count": 5,
   "metadata": {},
   "outputs": [
    {
     "name": "stdout",
     "output_type": "stream",
     "text": [
      "kx: 0.07932 [m/m]\n"
     ]
    }
   ],
   "source": [
    "kx = (- h_farm/4 - w_farm/4 + (np.sqrt(h_farm**2 + 2*A_0 + w_farm**2 - 4*A_0 + 4*(A_0 * (C_T / (2*(u_s - u_s**2))))))/4)/d\n",
    "print('kx:', round(kx,5), '[m/m]')"
   ]
  },
  {
   "cell_type": "markdown",
   "metadata": {},
   "source": [
    "# Save to CSV"
   ]
  },
  {
   "cell_type": "code",
   "execution_count": 6,
   "metadata": {},
   "outputs": [],
   "source": [
    "k = int(kx*d)\n",
    "y_meas = np.linspace(0 - k, w_farm + k, w_farm+(2*k)+1)\n",
    "U = np.full_like(y_meas, u_tdm[-1])"
   ]
  },
  {
   "cell_type": "code",
   "execution_count": 7,
   "metadata": {},
   "outputs": [],
   "source": [
    "data = pd.DataFrame({\n",
    "    \"y_wake\": y_meas / D,\n",
    "    \"U_norm\": U / U_0,\n",
    "    \"kx\": kx,\n",
    "})\n",
    "data.to_csv(f\"../ArbitraryLayouts/ValidationData/{int(d / D)}D.csv\", index=False)"
   ]
  }
 ],
 "metadata": {
  "kernelspec": {
   "display_name": "Python 3",
   "language": "python",
   "name": "python3"
  },
  "language_info": {
   "codemirror_mode": {
    "name": "ipython",
    "version": 3
   },
   "file_extension": ".py",
   "mimetype": "text/x-python",
   "name": "python",
   "nbconvert_exporter": "python",
   "pygments_lexer": "ipython3",
   "version": "3.13.3"
  }
 },
 "nbformat": 4,
 "nbformat_minor": 2
}
