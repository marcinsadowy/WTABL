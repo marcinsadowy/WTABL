{
 "cells": [
  {
   "cell_type": "markdown",
   "metadata": {},
   "source": [
    "# Nygaard TDM"
   ]
  },
  {
   "cell_type": "code",
   "execution_count": 6,
   "metadata": {},
   "outputs": [],
   "source": [
    "import numpy as np\n",
    "import matplotlib.pyplot as plt\n",
    "import pandas as pd"
   ]
  },
  {
   "cell_type": "code",
   "execution_count": 7,
   "metadata": {},
   "outputs": [],
   "source": [
    "U_h0 = 10\n",
    "C_T = 0.8\n",
    "D = 100\n",
    "s_x = 10"
   ]
  },
  {
   "cell_type": "code",
   "execution_count": 8,
   "metadata": {},
   "outputs": [],
   "source": [
    "def calculate_wind_speed(x1, x2, x3, z_h, D, C_T, s_x, s_y, U_h0):\n",
    "\n",
    "    k = 0.4 # Von Karman constant [-]\n",
    "    z_0lo = 0.0001 # surface rughness length [m]\n",
    "\n",
    "    ct = (np.pi * C_T * D**2)/(8 * s_x*D * s_y*D)\n",
    "\n",
    "    nu_star = 28 * np.sqrt(ct)\n",
    "\n",
    "    beta =  nu_star / (1 + nu_star)\n",
    "\n",
    "    z0_WF = z_h * (1 + D/(2 * z_h))**beta * np.exp(-k * (ct + (k/np.log((z_h / z_0lo) * (1 - D/(2 * z_h))**beta))**2)**-0.5)\n",
    "\n",
    "    x = np.linspace(x1, x3, x3)\n",
    "\n",
    "    h1 = np.full_like(x, np.nan, dtype=float)\n",
    "    h2 = np.full_like(x, np.nan, dtype=float)\n",
    "\n",
    "    h1[x > x1] = z_h + ((x[x > x1]) / z0_WF)**(4/5)\n",
    "    h2[x > x2] = ((x[x>x2]-x2)/z0_WF)**(4/5)\n",
    "\n",
    "    uw = np.full_like(x, np.nan, dtype=float)\n",
    "\n",
    "    idx1 = h1 >= z_h\n",
    "    uw[idx1] = U_h0 * (np.log(h1[idx1] / z_0lo) * np.log(z_h / z0_WF)) / (np.log(h1[idx1] / z0_WF) * np.log(z_h/z_0lo))\n",
    "\n",
    "    idx2 = (x > x2) & (h2 >= z_h)\n",
    "    uw[idx2] = U_h0 * (np.log(h1[idx2] / z_0lo) * np.log(h2[idx2] / z0_WF)) / (np.log(h1[idx2] / z0_WF) * np.log(h2[idx2] / z_0lo))\n",
    "\n",
    "    return x, uw"
   ]
  },
  {
   "cell_type": "markdown",
   "metadata": {},
   "source": [
    "# Alex's firkanter :)"
   ]
  },
  {
   "cell_type": "code",
   "execution_count": 10,
   "metadata": {},
   "outputs": [
    {
     "name": "stdout",
     "output_type": "stream",
     "text": [
      "u_s 0.004744711532551982\n"
     ]
    }
   ],
   "source": [
    "h_farm = D\n",
    "w_farm = s_x*D * 5\n",
    "l_farm = w_farm # Midlertidigt pga. kvadrat\n",
    "A_0 = w_farm * h_farm\n",
    "x_meas = 400*D\n",
    "\n",
    "x, u_tdm = calculate_wind_speed(0, l_farm, x_meas, 100, D, 0.9, 10, 10, U_h0)\n",
    "u_s = (U_h0 - u_tdm[-1]) / U_h0\n",
    "print('u_s', u_s)"
   ]
  },
  {
   "cell_type": "code",
   "execution_count": 11,
   "metadata": {},
   "outputs": [
    {
     "name": "stdout",
     "output_type": "stream",
     "text": [
      "kx: 0.06 [m/m]\n"
     ]
    }
   ],
   "source": [
    "kx = (- h_farm/4 - w_farm/4 + (np.sqrt(h_farm**2 + 2*A_0 + w_farm**2 - 4*A_0 + 4*(A_0 * (C_T / (2*(u_s - u_s**2))))))/4)/x_meas\n",
    "print('kx:', round(kx,2), '[m/m]')"
   ]
  },
  {
   "cell_type": "markdown",
   "metadata": {},
   "source": [
    "# Save to CSV"
   ]
  },
  {
   "cell_type": "code",
   "execution_count": 12,
   "metadata": {},
   "outputs": [],
   "source": [
    "k = int(kx*x_meas)\n",
    "y_meas = np.linspace(0 - k, w_farm + k, w_farm+(2*k)+1)\n",
    "U = np.full_like(y_meas, u_tdm[-1])"
   ]
  },
  {
   "cell_type": "code",
   "execution_count": 13,
   "metadata": {},
   "outputs": [],
   "source": [
    "data = pd.DataFrame({\n",
    "    \"y_wake\": y_meas / D,\n",
    "    \"U_norm\": U / U_h0,\n",
    "})\n",
    "data.to_csv(f\"../ArbitraryLayouts/ValidationData/mREC{int(x_meas / D)}D.csv\", index=False)"
   ]
  }
 ],
 "metadata": {
  "kernelspec": {
   "display_name": "Python 3",
   "language": "python",
   "name": "python3"
  },
  "language_info": {
   "codemirror_mode": {
    "name": "ipython",
    "version": 3
   },
   "file_extension": ".py",
   "mimetype": "text/x-python",
   "name": "python",
   "nbconvert_exporter": "python",
   "pygments_lexer": "ipython3",
   "version": "3.13.3"
  }
 },
 "nbformat": 4,
 "nbformat_minor": 2
}
