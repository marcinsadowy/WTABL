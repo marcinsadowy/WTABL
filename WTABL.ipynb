{
 "cells": [
  {
   "cell_type": "code",
   "execution_count": 24,
   "metadata": {},
   "outputs": [],
   "source": [
    "import pandas as pd\n",
    "import numpy as np\n",
    "import matplotlib.pyplot as plt"
   ]
  },
  {
   "cell_type": "code",
   "execution_count": 25,
   "metadata": {},
   "outputs": [],
   "source": [
    "# Constants\n",
    "U_G = 12 # Geostrophic velocity [m/s]\n",
    "C_star = 4.5 # Friction velocity constant [-]\n",
    "f = 1*10**(-4) # Coriolis parameter [1/s]\n",
    "k = 0.4 # Von Karman constant [-]\n",
    "z_h = 100 # hub height [m]\n",
    "delta_ibl_0 = z_h\n",
    "z_0lo = 0.0001 # surface rughness length [m] \n",
    "C_T = 0.7 # Thrust coefficient [-]\n",
    "D = 100 # Rotor diameter [m]\n",
    "s_x = 7 # Streamwise distance [D]\n",
    "s_y = 7 # Spanwise distance [D]\n"
   ]
  },
  {
   "cell_type": "markdown",
   "metadata": {},
   "source": [
    "Eddy Viscosity: $ v_w^* = \\frac{V_T}{\\kappa u_* z_h} $\n",
    "\n",
    "Wake Expansion Parameter: $ \\beta = \\frac{v_w^*}{1 + v_w^*} $"
   ]
  },
  {
   "cell_type": "code",
   "execution_count": 26,
   "metadata": {},
   "outputs": [
    {
     "name": "stdout",
     "output_type": "stream",
     "text": [
      "Planform thrust coefficient:  0.011 [-]\n",
      "Eddy Viscosity:  2.1 [-]\n",
      "Wake Expansion Parameter:  0.68 [-]\n"
     ]
    }
   ],
   "source": [
    "# Planform thrust coefficient\n",
    "c_ft = (np.pi * C_T)/(4*s_x*s_y)\n",
    "print(\"Planform thrust coefficient: \", round(c_ft,3), \"[-]\")\n",
    "\n",
    "# Eddy viscosity\n",
    "v_w_star = 28 * np.sqrt(1/2*c_ft)\n",
    "print(\"Eddy Viscosity: \", round(v_w_star,2), \"[-]\")\n",
    "\n",
    "# Wake Expansion Parameter\n",
    "beta = v_w_star / (1 + v_w_star)\n",
    "print(\"Wake Expansion Parameter: \", round(beta,2), \"[-]\")"
   ]
  },
  {
   "cell_type": "markdown",
   "metadata": {},
   "source": [
    "Effective Roughness height: $ z_{0,hi} = z_h \\left( 1+\\frac{D}{2z_h} \\right)^{\\beta} \\cdot \\exp \\left( - \\left[ \\frac{c_{ft}}{2{\\kappa^2}}+ \\left( \\ln \\left[ \\frac{z_h}{z_{0,lo}} \\left( 1-\\frac{D}{2z_h} \\right) ^{\\beta} \\right] \\right)^{-2} \\right]^{-\\frac{1}{2}} \\right) $\n",
    "\n",
    "Friction Velocity: $ u_* = \\frac{\\kappa U_G}{\\ln \\left( \\frac{U_G}{f z_0} \\right) - C_*}  $"
   ]
  },
  {
   "cell_type": "code",
   "execution_count": 27,
   "metadata": {},
   "outputs": [
    {
     "name": "stdout",
     "output_type": "stream",
     "text": [
      "Effective Roughness height:  0.92 m\n",
      "Friction Velocity:  0.29 m/s\n"
     ]
    }
   ],
   "source": [
    "# Effective Roughness height\n",
    "z_0hi = z_h * (1 + D/(2 * z_h))**beta * np.exp(-(c_ft/(2 * k**2) + (np.log(z_h / z_0lo * (1 - D/(2 * z_h))**beta))**-2)**-0.5)\n",
    "print(\"Effective Roughness height: \", round(z_0hi, 2), \"m\")\n",
    "\n",
    "# Friction Velocity\n",
    "u_star = (k * U_G) / (np.log(U_G / (f * z_0lo)) - C_star)\n",
    "print(\"Friction Velocity: \", round(u_star,2), \"m/s\")"
   ]
  },
  {
   "cell_type": "markdown",
   "metadata": {},
   "source": [
    "Internal Boundary Layer Height as function of downstream distance: $ \\frac{\\delta_{ibl}(x)}{z_{0,hi}} = \\frac{\\delta_{ibl}(0)}{z_{0,hi}} + (\\frac{x}{z_{0,hi}})^{\\frac{4}{5}} $\n",
    "\n",
    "Friction velocity as function of downstream distance: $ u_*(x) = u_* \\frac{\\ln \\left( \\frac{\\delta_{ibl}(x)}{z_{0,lo}} \\right)}{\\ln \\left( \\frac{\\delta_{ibl}(x)}{z_{0,hi}} \\right)}, \\;\\;\\; \\delta_{ibl}(x) < H^*_G $\n",
    "\n"
   ]
  },
  {
   "cell_type": "markdown",
   "metadata": {},
   "source": [
    "Hub-height velocity as a function of downstream distance: $ U_{hT}(x) = \\frac{u_*}{\\kappa} \\frac{\\ln \\left( \\frac{\\delta_{ibl}(x)}{z_{0,lo}} \\right)}{\\ln \\left( \\frac{\\delta_{ibl}(x)}{z_{0,hi}} \\right)} \\ln \\left[ \\left( \\frac{z_h}{z_{0,hi}} \\right) \\left( 1 + \\frac{D}{2 z_h} \\right)^{\\beta} \\right] $"
   ]
  },
  {
   "cell_type": "code",
   "execution_count": 28,
   "metadata": {},
   "outputs": [
    {
     "name": "stdout",
     "output_type": "stream",
     "text": [
      "Hub-height velocity as a function of downstream distance:  10.7 m/s\n"
     ]
    }
   ],
   "source": [
    "# Internal boundary Layer height as a function of downstream distance (x = 0 is upstream edge of wind farm)\n",
    "x = 0 # Downstream distance from upstream edge [m]\n",
    "delta_ibl_x = delta_ibl_0 + z_0hi * (x/z_0hi)**(4/5)\n",
    "\n",
    "# Hub-height velocity as a function of downstream distance\n",
    "U_hT_x = (u_star / k) * (np.log(delta_ibl_x / z_0lo) / np.log(delta_ibl_x / z_0hi)) * np.log((z_h / z_0hi) * (1 + D/(2 * z_h))**beta)\n",
    "print(\"Hub-height velocity as a function of downstream distance: \", round(U_hT_x, 2), \"m/s\")"
   ]
  },
  {
   "cell_type": "markdown",
   "metadata": {},
   "source": [
    "Single Turbine Power: $ P = C_P \\frac{\\rho}{2} U_{hT} \\pi \\frac{D^2}{4}$"
   ]
  },
  {
   "cell_type": "code",
   "execution_count": 29,
   "metadata": {},
   "outputs": [
    {
     "name": "stdout",
     "output_type": "stream",
     "text": [
      "Power as a function of downstream distance:  2.31 MW\n"
     ]
    }
   ],
   "source": [
    "P_x = 0.4 * 1.2/2 * U_hT_x**3 * np.pi * D**2 / 4\n",
    "print(\"Power as a function of downstream distance: \", round(P_x/1000000, 2), \"MW\")"
   ]
  },
  {
   "cell_type": "code",
   "execution_count": 30,
   "metadata": {},
   "outputs": [
    {
     "ename": "ImportError",
     "evalue": "cannot import name 'IBL_visualization' from 'IBL_visualization' (/Users/madslangkjaerjakobsen/Desktop/WTABL-1/IBL_visualization.py)",
     "output_type": "error",
     "traceback": [
      "\u001b[0;31m---------------------------------------------------------------------------\u001b[0m",
      "\u001b[0;31mImportError\u001b[0m                               Traceback (most recent call last)",
      "Cell \u001b[0;32mIn[30], line 1\u001b[0m\n\u001b[0;32m----> 1\u001b[0m \u001b[38;5;28;01mfrom\u001b[39;00m \u001b[38;5;21;01mIBL_visualization\u001b[39;00m \u001b[38;5;28;01mimport\u001b[39;00m IBL_visualization\n\u001b[1;32m      3\u001b[0m x_len \u001b[38;5;241m=\u001b[39m \u001b[38;5;241m10000\u001b[39m\n\u001b[1;32m      4\u001b[0m H_G \u001b[38;5;241m=\u001b[39m \u001b[38;5;241m1300\u001b[39m\n",
      "\u001b[0;31mImportError\u001b[0m: cannot import name 'IBL_visualization' from 'IBL_visualization' (/Users/madslangkjaerjakobsen/Desktop/WTABL-1/IBL_visualization.py)"
     ]
    }
   ],
   "source": [
    "from IBL_visualization import IBL_visualization\n",
    "\n",
    "x_len = 10000\n",
    "H_G = 1300\n",
    "\n",
    "# Hej1\n",
    "IBL_visualization(x, x_len, delta_ibl_0, z_0hi, u_star, k, z_0lo, beta, H_G)"
   ]
  },
  {
   "cell_type": "markdown",
   "metadata": {},
   "source": [
    "# banger, vi kaldte grafen"
   ]
  }
 ],
 "metadata": {
  "kernelspec": {
   "display_name": "EnergyAnalysis",
   "language": "python",
   "name": "python3"
  },
  "language_info": {
   "codemirror_mode": {
    "name": "ipython",
    "version": 3
   },
   "file_extension": ".py",
   "mimetype": "text/x-python",
   "name": "python",
   "nbconvert_exporter": "python",
   "pygments_lexer": "ipython3",
   "version": "3.11.8"
  }
 },
 "nbformat": 4,
 "nbformat_minor": 2
}
